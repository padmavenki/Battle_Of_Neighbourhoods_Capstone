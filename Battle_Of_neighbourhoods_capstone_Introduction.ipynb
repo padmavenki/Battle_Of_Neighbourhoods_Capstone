{
 "cells": [
  {
   "cell_type": "markdown",
   "id": "e040234f",
   "metadata": {},
   "source": [
    "# INTRODUCTION / BUSINESS PROBLEM"
   ]
  },
  {
   "cell_type": "markdown",
   "id": "28beb98e",
   "metadata": {},
   "source": [
    "## The main objective of this project is to give a recommendation to the business to open a shopping mall in Chennai, India. Chennai is the capital city of TamilNadu, India. Its a very hot place and any business started in that city should be started with a proper insight of the area and the locations near by, for the business to be successful. So the main objective of this report is to provide insights of the Chennai City and help the stake holders decide on opening a Shopping Mall."
   ]
  },
  {
   "cell_type": "markdown",
   "id": "6fff1a1b",
   "metadata": {},
   "source": [
    "# TARGET AUDIENCE FOR THIS PROJECT"
   ]
  },
  {
   "cell_type": "markdown",
   "id": "3fb103cc",
   "metadata": {},
   "source": [
    "## The main target audiences of this project are investors who want to invest in opening a shopping mall in the City of Chennai,India."
   ]
  }
 ],
 "metadata": {
  "kernelspec": {
   "display_name": "Python 3",
   "language": "python",
   "name": "python3"
  },
  "language_info": {
   "codemirror_mode": {
    "name": "ipython",
    "version": 3
   },
   "file_extension": ".py",
   "mimetype": "text/x-python",
   "name": "python",
   "nbconvert_exporter": "python",
   "pygments_lexer": "ipython3",
   "version": "3.8.5"
  }
 },
 "nbformat": 4,
 "nbformat_minor": 5
}
