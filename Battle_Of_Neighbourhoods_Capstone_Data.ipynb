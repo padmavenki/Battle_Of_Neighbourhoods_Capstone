{
 "cells": [
  {
   "cell_type": "markdown",
   "id": "ab86a3c5",
   "metadata": {},
   "source": [
    "# DATA"
   ]
  },
  {
   "cell_type": "markdown",
   "id": "822252a2",
   "metadata": {},
   "source": [
    "\n",
    "## List of neighbourhoods of Chennai City which confines to only Chennai City.(Source Wiki)\n",
    "## Lat and Long of Chennai City(which was fetched with geolocator)\n",
    "## Lat and Long of Chennai City which was already provided in the Wiki Page.\n",
    "## Venue Data relating to Shopping malls (fetched using Four Square API)\n",
    "## Links\n",
    "## https://en.wikipedia.org/wiki/List_of_neighbourhoods_of_Chennai\n",
    "## Four square API for Venue data\n",
    "## https://foursquare.com/"
   ]
  },
  {
   "cell_type": "code",
   "execution_count": null,
   "id": "7f8528e7",
   "metadata": {},
   "outputs": [],
   "source": []
  }
 ],
 "metadata": {
  "kernelspec": {
   "display_name": "Python 3",
   "language": "python",
   "name": "python3"
  },
  "language_info": {
   "codemirror_mode": {
    "name": "ipython",
    "version": 3
   },
   "file_extension": ".py",
   "mimetype": "text/x-python",
   "name": "python",
   "nbconvert_exporter": "python",
   "pygments_lexer": "ipython3",
   "version": "3.8.5"
  }
 },
 "nbformat": 4,
 "nbformat_minor": 5
}
